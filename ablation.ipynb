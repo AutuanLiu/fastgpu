{
 "cells": [
  {
   "cell_type": "markdown",
   "metadata": {},
   "source": [
    "# Ablation study example\n",
    "\n",
    "> Imagenette/woof training"
   ]
  },
  {
   "cell_type": "markdown",
   "metadata": {},
   "source": [
    "This is an example of how to analyze the results logged by a number of runs of `fastgpu` on [Imagenette](https://github.com/fastai/imagenette)."
   ]
  },
  {
   "cell_type": "code",
   "execution_count": null,
   "metadata": {},
   "outputs": [],
   "source": [
    "#hide\n",
    "from fastcore.all import *\n",
    "from nbdev.showdoc import *\n",
    "from pandas import DataFrame\n",
    "from IPython.lib.display import FileLink"
   ]
  },
  {
   "cell_type": "code",
   "execution_count": null,
   "metadata": {},
   "outputs": [],
   "source": [
    "path = Path('~/git/fastai2/nbs/examples/exps').expanduser()\n",
    "path_out = path/'out'\n",
    "path_scr = path/'complete'"
   ]
  },
  {
   "cell_type": "code",
   "execution_count": null,
   "metadata": {},
   "outputs": [],
   "source": [
    "def fn_name(fn): return fn.name.split('.')[0]\n",
    "\n",
    "hdrs = 'name epoch trn_loss val_loss top1 top5 time'.split()\n",
    "\n",
    "def scr_results(fn):\n",
    "    return L([dict(zip(hdrs, [fn_name(fn)] + o.strip().split()))\n",
    "           for o in fn.readlines() if re.match(r'\\d+   ', o)])"
   ]
  },
  {
   "cell_type": "code",
   "execution_count": null,
   "metadata": {},
   "outputs": [],
   "source": [
    "all_results = L([scr_results(o) for o in path_out.glob('*.stdout')]).concat()\n",
    "df_results = DataFrame.from_records(all_results).query('time==time').astype(\n",
    "    dict(epoch=int, trn_loss=float, val_loss=float, top5=float, top1=float))"
   ]
  },
  {
   "cell_type": "code",
   "execution_count": null,
   "metadata": {},
   "outputs": [],
   "source": [
    "def scr_params(fn):\n",
    "    return merge(dict([o.strip().split() for o in fn.read_text().split('--')[1:]]),\n",
    "                 {'name':fn_name(fn)})"
   ]
  },
  {
   "cell_type": "code",
   "execution_count": null,
   "metadata": {},
   "outputs": [
    {
     "data": {
      "text/html": [
       "<div>\n",
       "<style scoped>\n",
       "    .dataframe tbody tr th:only-of-type {\n",
       "        vertical-align: middle;\n",
       "    }\n",
       "\n",
       "    .dataframe tbody tr th {\n",
       "        vertical-align: top;\n",
       "    }\n",
       "\n",
       "    .dataframe thead th {\n",
       "        text-align: right;\n",
       "    }\n",
       "</style>\n",
       "<table border=\"1\" class=\"dataframe\">\n",
       "  <thead>\n",
       "    <tr style=\"text-align: right;\">\n",
       "      <th></th>\n",
       "      <th>woof</th>\n",
       "      <th>lr</th>\n",
       "      <th>size</th>\n",
       "      <th>sqrmom</th>\n",
       "      <th>mom</th>\n",
       "      <th>eps</th>\n",
       "      <th>epochs</th>\n",
       "      <th>bs</th>\n",
       "      <th>opt</th>\n",
       "      <th>sa</th>\n",
       "      <th>fp16</th>\n",
       "      <th>arch</th>\n",
       "      <th>name</th>\n",
       "      <th>pool</th>\n",
       "      <th>meta</th>\n",
       "      <th>runs</th>\n",
       "      <th>mixup</th>\n",
       "      <th>sh</th>\n",
       "      <th>sym</th>\n",
       "      <th>beta</th>\n",
       "    </tr>\n",
       "  </thead>\n",
       "  <tbody>\n",
       "    <tr>\n",
       "      <th>0</th>\n",
       "      <td>0</td>\n",
       "      <td>8e-3</td>\n",
       "      <td>192</td>\n",
       "      <td>0.99</td>\n",
       "      <td>0.95</td>\n",
       "      <td>1e-6</td>\n",
       "      <td>5</td>\n",
       "      <td>64</td>\n",
       "      <td>ranger</td>\n",
       "      <td>1</td>\n",
       "      <td>0</td>\n",
       "      <td>xse_resnext18</td>\n",
       "      <td>02a</td>\n",
       "      <td>NaN</td>\n",
       "      <td>NaN</td>\n",
       "      <td>NaN</td>\n",
       "      <td>NaN</td>\n",
       "      <td>NaN</td>\n",
       "      <td>NaN</td>\n",
       "      <td>NaN</td>\n",
       "    </tr>\n",
       "    <tr>\n",
       "      <th>1</th>\n",
       "      <td>0</td>\n",
       "      <td>8e-3</td>\n",
       "      <td>128</td>\n",
       "      <td>0.99</td>\n",
       "      <td>0.95</td>\n",
       "      <td>1e-6</td>\n",
       "      <td>20</td>\n",
       "      <td>64</td>\n",
       "      <td>ranger</td>\n",
       "      <td>1</td>\n",
       "      <td>1</td>\n",
       "      <td>xse_resnext50</td>\n",
       "      <td>xf104a</td>\n",
       "      <td>MaxPool</td>\n",
       "      <td>NaN</td>\n",
       "      <td>NaN</td>\n",
       "      <td>NaN</td>\n",
       "      <td>NaN</td>\n",
       "      <td>NaN</td>\n",
       "      <td>NaN</td>\n",
       "    </tr>\n",
       "    <tr>\n",
       "      <th>2</th>\n",
       "      <td>0</td>\n",
       "      <td>8e-3</td>\n",
       "      <td>256</td>\n",
       "      <td>0.99</td>\n",
       "      <td>0.95</td>\n",
       "      <td>1e-6</td>\n",
       "      <td>5</td>\n",
       "      <td>64</td>\n",
       "      <td>ranger</td>\n",
       "      <td>1</td>\n",
       "      <td>0</td>\n",
       "      <td>xse_resnext18</td>\n",
       "      <td>03a</td>\n",
       "      <td>NaN</td>\n",
       "      <td>NaN</td>\n",
       "      <td>NaN</td>\n",
       "      <td>NaN</td>\n",
       "      <td>NaN</td>\n",
       "      <td>NaN</td>\n",
       "      <td>NaN</td>\n",
       "    </tr>\n",
       "    <tr>\n",
       "      <th>3</th>\n",
       "      <td>1</td>\n",
       "      <td>8e-3</td>\n",
       "      <td>128</td>\n",
       "      <td>0.99</td>\n",
       "      <td>0.95</td>\n",
       "      <td>1e-6</td>\n",
       "      <td>5</td>\n",
       "      <td>64</td>\n",
       "      <td>ranger</td>\n",
       "      <td>1</td>\n",
       "      <td>1</td>\n",
       "      <td>xse_resnext50</td>\n",
       "      <td>x01b</td>\n",
       "      <td>NaN</td>\n",
       "      <td>NaN</td>\n",
       "      <td>NaN</td>\n",
       "      <td>NaN</td>\n",
       "      <td>NaN</td>\n",
       "      <td>NaN</td>\n",
       "      <td>NaN</td>\n",
       "    </tr>\n",
       "    <tr>\n",
       "      <th>4</th>\n",
       "      <td>0</td>\n",
       "      <td>8e-3</td>\n",
       "      <td>192</td>\n",
       "      <td>0.99</td>\n",
       "      <td>0.95</td>\n",
       "      <td>1e-6</td>\n",
       "      <td>20</td>\n",
       "      <td>64</td>\n",
       "      <td>ranger</td>\n",
       "      <td>1</td>\n",
       "      <td>1</td>\n",
       "      <td>xse_resnext50</td>\n",
       "      <td>x05a</td>\n",
       "      <td>NaN</td>\n",
       "      <td>NaN</td>\n",
       "      <td>NaN</td>\n",
       "      <td>NaN</td>\n",
       "      <td>NaN</td>\n",
       "      <td>NaN</td>\n",
       "      <td>NaN</td>\n",
       "    </tr>\n",
       "  </tbody>\n",
       "</table>\n",
       "</div>"
      ],
      "text/plain": [
       "  woof    lr size sqrmom   mom   eps  epochs  bs     opt sa fp16  \\\n",
       "0    0  8e-3  192   0.99  0.95  1e-6       5  64  ranger  1    0   \n",
       "1    0  8e-3  128   0.99  0.95  1e-6      20  64  ranger  1    1   \n",
       "2    0  8e-3  256   0.99  0.95  1e-6       5  64  ranger  1    0   \n",
       "3    1  8e-3  128   0.99  0.95  1e-6       5  64  ranger  1    1   \n",
       "4    0  8e-3  192   0.99  0.95  1e-6      20  64  ranger  1    1   \n",
       "\n",
       "            arch    name     pool meta runs mixup   sh  sym beta  \n",
       "0  xse_resnext18     02a      NaN  NaN  NaN   NaN  NaN  NaN  NaN  \n",
       "1  xse_resnext50  xf104a  MaxPool  NaN  NaN   NaN  NaN  NaN  NaN  \n",
       "2  xse_resnext18     03a      NaN  NaN  NaN   NaN  NaN  NaN  NaN  \n",
       "3  xse_resnext50    x01b      NaN  NaN  NaN   NaN  NaN  NaN  NaN  \n",
       "4  xse_resnext50    x05a      NaN  NaN  NaN   NaN  NaN  NaN  NaN  "
      ]
     },
     "execution_count": null,
     "metadata": {},
     "output_type": "execute_result"
    }
   ],
   "source": [
    "df_params = DataFrame([scr_params(o) for o in path_scr.ls()]).astype({'epochs':int})\n",
    "df_params.head()"
   ]
  },
  {
   "cell_type": "code",
   "execution_count": null,
   "metadata": {},
   "outputs": [],
   "source": [
    "df_merge = pd.merge(df_params, df_results, 'left', on='name')\n",
    "assert df_merge[pd.isna(df_merge.arch)].empty"
   ]
  },
  {
   "cell_type": "code",
   "execution_count": null,
   "metadata": {},
   "outputs": [],
   "source": [
    "df_merge.fillna(0.0, inplace=True)\n",
    "df_merge['repoch'] = df_merge.epochs - df_merge.epoch"
   ]
  },
  {
   "cell_type": "code",
   "execution_count": null,
   "metadata": {},
   "outputs": [],
   "source": [
    "df_merge.to_csv('imagenette.csv', index=False)\n",
    "FileLink('imagenette.csv')"
   ]
  },
  {
   "cell_type": "code",
   "execution_count": null,
   "metadata": {},
   "outputs": [],
   "source": []
  }
 ],
 "metadata": {
  "kernelspec": {
   "display_name": "Python 3",
   "language": "python",
   "name": "python3"
  }
 },
 "nbformat": 4,
 "nbformat_minor": 2
}
